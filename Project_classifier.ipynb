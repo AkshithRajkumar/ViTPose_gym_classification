{
 "cells": [
  {
   "cell_type": "code",
   "execution_count": 3,
   "metadata": {},
   "outputs": [],
   "source": [
    "import torch\n",
    "import torch.nn as nn\n",
    "import torch.nn.functional as F\n",
    "import torch.optim as optim\n",
    "import torchvision.models as models\n",
    "import torchvision.transforms as transforms\n",
    "import os\n",
    "import numpy as np\n",
    "from sklearn.model_selection import train_test_split\n",
    "import torch.optim.lr_scheduler as lr_scheduler\n",
    "import pandas as pd"
   ]
  },
  {
   "cell_type": "code",
   "execution_count": 4,
   "metadata": {},
   "outputs": [],
   "source": [
    "# import os\n",
    "# import numpy as np\n",
    "# from torch.utils.data import Dataset\n",
    "\n",
    "# class CustomDataset(Dataset):\n",
    "#     def __init__(self, root_dir):\n",
    "#         self.root_dir = root_dir\n",
    "#         self.class_labels = sorted(os.listdir(root_dir))\n",
    "#         self.data = []\n",
    "#         self.target = self.root_dir.split('\\\\')[-1]\n",
    "#         self.target_map = {\"squat\": 0, \"deadlift\": 1}\n",
    "        \n",
    "#         for label_idx, label in enumerate(self.class_labels):\n",
    "#             label_dir = os.path.join(root_dir, label)\n",
    "#             for subdir, _, files in os.walk(label_dir):\n",
    "#                 for file in files:\n",
    "#                     if file.endswith('.npz'):\n",
    "#                         file_path = os.path.join(subdir, file)\n",
    "#                         self.data.append(file_path)\n",
    "#                         self.targets.append(label_idx)\n",
    "    \n",
    "#     def __len__(self):\n",
    "#         return len(self.data)\n",
    "    \n",
    "#     def __getitem__(self, index):\n",
    "#         file_path = self.data[index]\n",
    "#         target = self.targets[index]\n",
    "        \n",
    "#         data = np.load(file_path)\n",
    "#         # Assuming the data in the .npz file is stored in a variable named 'data'\n",
    "#         data = data['reconstruction'][:, 5:, :2]\n",
    "        \n",
    "#         last_row = data[-1]\n",
    "\n",
    "#         # Pad the data to a fixed length\n",
    "#         # fixed_length = 278\n",
    "#         # if len(data) < fixed_length:\n",
    "#         #     data = np.concatenate([data, np.tile(last_row, (fixed_length - len(data), 1))])\n",
    "#         # else:\n",
    "#         #     data = data[:fixed_length]\n",
    "#         return data, target\n"
   ]
  },
  {
   "cell_type": "code",
   "execution_count": 5,
   "metadata": {},
   "outputs": [],
   "source": [
    "from torch.utils.data import Dataset\n",
    "\n",
    "class CustomDataset(Dataset):\n",
    "    def __init__(self, root_dir):\n",
    "        self.root_dir = root_dir\n",
    "        self.classes = sorted(os.listdir(root_dir))\n",
    "        self.file_paths = self._get_file_paths()\n",
    "\n",
    "    def _get_file_paths(self):\n",
    "        file_paths = []\n",
    "        for label, class_name in enumerate(self.classes):\n",
    "            class_dir = os.path.join(self.root_dir, class_name)\n",
    "            files = os.listdir(class_dir)\n",
    "            for file in files:\n",
    "                file_paths.append((os.path.join(class_dir, file), label))\n",
    "        return file_paths\n",
    "\n",
    "    def __len__(self):\n",
    "        return len(self.file_paths)\n",
    "\n",
    "    def __getitem__(self, idx):\n",
    "        file_path, label = self.file_paths[idx]\n",
    "        data = np.load(file_path)\n",
    "        data = data['reconstruction'][:, :, :2]\n",
    "        # Pad the data to a fixed length\n",
    "        last_row = np.expand_dims(data[-1], 0)\n",
    "        fixed_length = 150\n",
    "        if len(data) < fixed_length:\n",
    "            data = np.concatenate([data, np.tile(last_row, (fixed_length - len(data), 1, 1))])\n",
    "        else:\n",
    "            data = data[:fixed_length]\n",
    "        features = torch.from_numpy(data).float()  # Assuming features are stored under the key 'features'\n",
    "        return features, label"
   ]
  },
  {
   "cell_type": "code",
   "execution_count": 83,
   "metadata": {},
   "outputs": [
    {
     "name": "stdout",
     "output_type": "stream",
     "text": [
      "182\n"
     ]
    }
   ],
   "source": [
    "data = CustomDataset(r\"new_keypoints_30_03\")\n",
    "print(len(data))"
   ]
  },
  {
   "cell_type": "code",
   "execution_count": 84,
   "metadata": {},
   "outputs": [
    {
     "name": "stdout",
     "output_type": "stream",
     "text": [
      "torch.Size([150, 17, 2]) 0\n"
     ]
    }
   ],
   "source": [
    "tmp = next(iter(data))\n",
    "print(tmp[0].shape, tmp[1])"
   ]
  },
  {
   "cell_type": "code",
   "execution_count": 8,
   "metadata": {},
   "outputs": [
    {
     "data": {
      "text/plain": [
       "(torch.Size([150, 17, 2]), 0)"
      ]
     },
     "execution_count": 8,
     "metadata": {},
     "output_type": "execute_result"
    }
   ],
   "source": [
    "next(iter(data))[0].shape, next(iter(data))[1]"
   ]
  },
  {
   "cell_type": "code",
   "execution_count": 20,
   "metadata": {},
   "outputs": [
    {
     "name": "stdout",
     "output_type": "stream",
     "text": [
      "torch.Size([16, 150, 17, 2]) torch.Size([16])\n",
      "tensor([1, 1, 0, 1, 0, 1, 1, 1, 2, 2, 0, 1, 0, 0, 1, 0])\n"
     ]
    }
   ],
   "source": [
    "# use the DataLoader class to load the data\n",
    "from torch.utils.data import DataLoader\n",
    "\n",
    "batch_size = 16\n",
    "shuffle = True\n",
    "\n",
    "squats_loader = DataLoader(data, batch_size=batch_size, shuffle=shuffle)\n",
    "\n",
    "# Example usage\n",
    "for batch in squats_loader:\n",
    "    features, labels = batch\n",
    "    print(features.shape, labels.shape)\n",
    "    break\n",
    "\n",
    "print(labels)"
   ]
  },
  {
   "cell_type": "code",
   "execution_count": 9,
   "metadata": {},
   "outputs": [],
   "source": [
    "class TCN(nn.Module):\n",
    "    def __init__(self, input_size, num_channels, kernel_size, dropout):\n",
    "        super(TCN, self).__init__()\n",
    "        self.input_size = input_size\n",
    "        self.num_channels = num_channels\n",
    "        self.kernel_size = kernel_size\n",
    "        self.dropout = dropout\n",
    "        self.conv_layers = nn.ModuleList()\n",
    "        self.batch_norm_layers = nn.ModuleList()\n",
    "        self.num_layers = len(num_channels)\n",
    "\n",
    "        # Modified here\n",
    "        in_channels = input_size[-1]\n",
    "\n",
    "        for i in range(self.num_layers):\n",
    "            dilation = 2 ** i\n",
    "            padding = (kernel_size - 1) * dilation // 2\n",
    "\n",
    "            out_channels = num_channels[i]\n",
    "            conv_layer = nn.Conv1d(in_channels, out_channels, kernel_size, padding=padding, dilation=dilation)\n",
    "            self.conv_layers.append(conv_layer)\n",
    "            batch_norm_layer = nn.BatchNorm1d(out_channels)\n",
    "            self.batch_norm_layers.append(batch_norm_layer)\n",
    "\n",
    "            in_channels = out_channels\n",
    "\n",
    "        self.linear = nn.Linear(num_channels[-1], 3)\n",
    "        self.dropout_layer = nn.Dropout(dropout)\n",
    "        self.sigmoid = nn.Sigmoid()\n",
    "\n",
    "    def forward(self, x):\n",
    "        batch_size, num_poses, num_joints, num_coords = x.size()\n",
    "        x = x.reshape(batch_size, num_poses * num_joints, num_coords).transpose(1, 2)\n",
    "        for i in range(self.num_layers):\n",
    "            conv_layer = self.conv_layers[i]\n",
    "            batch_norm_layer = self.batch_norm_layers[i]\n",
    "            x = conv_layer(x)\n",
    "            x = batch_norm_layer(x)\n",
    "            x = nn.functional.relu(x)\n",
    "            x = self.dropout_layer(x)\n",
    "        x = x.mean(dim=2)\n",
    "        x = self.linear(x)\n",
    "        x = self.sigmoid(x)\n",
    "        return x"
   ]
  },
  {
   "cell_type": "code",
   "execution_count": 933,
   "metadata": {},
   "outputs": [],
   "source": [
    "use_cuda = True"
   ]
  },
  {
   "cell_type": "code",
   "execution_count": 27,
   "metadata": {},
   "outputs": [
    {
     "name": "stdout",
     "output_type": "stream",
     "text": [
      "cpu\n"
     ]
    }
   ],
   "source": [
    "torch.manual_seed(1)\n",
    "if torch.cuda.is_available() and use_cuda:\n",
    "    device = torch.device('cuda')\n",
    "else:\n",
    "    device = torch.device('cpu')\n",
    "\n",
    "print(device)"
   ]
  },
  {
   "cell_type": "code",
   "execution_count": 32,
   "metadata": {},
   "outputs": [],
   "source": [
    "# Train, validation, and test splits\n",
    "train_size = 100\n",
    "val_size = 50\n",
    "test_size = 32\n",
    "\n",
    "seed = 20\n",
    "\n",
    "train_data, test_data = train_test_split(data, test_size=test_size, train_size=150, shuffle=True, random_state=seed)\n",
    "train_data, val_data = train_test_split(train_data, test_size=val_size, train_size=train_size, shuffle=True, random_state=seed)\n"
   ]
  },
  {
   "cell_type": "code",
   "execution_count": 33,
   "metadata": {},
   "outputs": [
    {
     "name": "stdout",
     "output_type": "stream",
     "text": [
      "100 50\n",
      "32\n"
     ]
    }
   ],
   "source": [
    "print(len(train_data), len(val_data))\n",
    "print(len(test_data))"
   ]
  },
  {
   "cell_type": "code",
   "execution_count": 34,
   "metadata": {},
   "outputs": [
    {
     "name": "stdout",
     "output_type": "stream",
     "text": [
      "Number of data in label 0: 35\n",
      "Number of data in label 1: 31\n",
      "Number of data in label 2: 34\n"
     ]
    }
   ],
   "source": [
    "# write a code to print the number of data in each label of 1 and 0\n",
    "for i in range(3):\n",
    "    print(f\"Number of data in label {i}: {len([label for _, label in train_data if label == i])}\")\n"
   ]
  },
  {
   "cell_type": "code",
   "execution_count": 35,
   "metadata": {},
   "outputs": [
    {
     "name": "stdout",
     "output_type": "stream",
     "text": [
      "Number of data in label 0: 18\n",
      "Number of data in label 1: 18\n",
      "Number of data in label 2: 14\n"
     ]
    }
   ],
   "source": [
    "for i in range(3):\n",
    "    print(f\"Number of data in label {i}: {len([label for _, label in val_data if label == i])}\")"
   ]
  },
  {
   "cell_type": "code",
   "execution_count": 36,
   "metadata": {},
   "outputs": [],
   "source": [
    "train_dl = DataLoader(train_data, batch_size=batch_size, shuffle=True)\n",
    "val_dl = DataLoader(val_data, batch_size=4, shuffle=True)"
   ]
  },
  {
   "cell_type": "code",
   "execution_count": 22,
   "metadata": {},
   "outputs": [],
   "source": [
    "def get_accuracy(model, data_loader, device):\n",
    "    model.eval()\n",
    "    correct = 0\n",
    "    total = 0\n",
    "    with torch.no_grad():\n",
    "        for inputs, labels in data_loader:\n",
    "            inputs, labels = inputs.to(device), labels.to(device)\n",
    "            outputs = model(inputs)\n",
    "            _, predicted = torch.max(outputs, 1)\n",
    "            total += labels.size(0)\n",
    "            correct += (predicted.squeeze() == labels).sum().item()\n",
    "    return correct / total"
   ]
  },
  {
   "cell_type": "code",
   "execution_count": 974,
   "metadata": {},
   "outputs": [],
   "source": [
    "import os\n",
    "import torch.nn.utils as utils\n",
    "\n",
    "def train(model, train_loader, val_loader, optimizer, scheduler, criterion, device, n_epochs=30):\n",
    "    train_loss_history = []\n",
    "    val_loss_history = []\n",
    "    train_acc_history = []\n",
    "    val_acc_history = []\n",
    "\n",
    "    model.to(device)\n",
    "\n",
    "    prev_loss = 10000\n",
    "    save_models = './saved_models_150'  # Define the path to save models\n",
    "    os.makedirs(save_models, exist_ok=True)  # Create the directory if it doesn't exist\n",
    "\n",
    "    for epoch in range(n_epochs):\n",
    "        model.train()\n",
    "        \n",
    "        train_loss = 0.0\n",
    "        for inputs, labels in train_loader:\n",
    "            optimizer.zero_grad()\n",
    "            inputs = inputs.to(device)\n",
    "            labels = labels.to(device)\n",
    "\n",
    "            outputs = model(inputs)\n",
    "            loss = criterion(outputs.squeeze(), labels)\n",
    "            \n",
    "            loss.backward()\n",
    "            utils.clip_grad_norm_(model.parameters(), 1.0)\n",
    "            optimizer.step()\n",
    "            train_loss += loss.item() * inputs.size(0)\n",
    "\n",
    "        train_loss /= len(train_loader.dataset)\n",
    "        train_loss_history.append(train_loss)\n",
    "        train_acc = get_accuracy(model, train_loader, device)\n",
    "        train_acc_history.append(train_acc)\n",
    "\n",
    "        \n",
    "        val_loss = 0.0\n",
    "\n",
    "        model.eval()\n",
    "        with torch.no_grad():\n",
    "            for inputs, labels in val_loader:\n",
    "                inputs = inputs.to(device)\n",
    "                labels = labels.to(device)\n",
    "\n",
    "                outputs = model(inputs)\n",
    "                loss = criterion(outputs.squeeze(), labels)\n",
    "                \n",
    "                val_loss += loss.item() * inputs.size(0)\n",
    "        \n",
    "        val_loss /= len(val_loader.dataset)\n",
    "        val_loss_history.append(val_loss)\n",
    "        val_acc = get_accuracy(model, val_loader, device)\n",
    "        val_acc_history.append(val_acc)        \n",
    "\n",
    "        scheduler.step(val_loss)\n",
    "        \n",
    "        if val_loss < prev_loss:\n",
    "            prev_loss = val_loss\n",
    "            path2save = os.path.join(save_models, f\"model_e{epoch+1}_l{val_loss:.4f}.pth\")\n",
    "            torch.save(model.state_dict(), path2save)\n",
    "            print(f\"Model saved in {path2save}\")\n",
    "        \n",
    "        print(f'Epoch {epoch+1}/{n_epochs}: Train Loss = {train_loss:.4f}, Val Loss = {val_loss:.4f}')\n",
    "        print(f'Train Accuracy = {train_acc:.4f}, Val Accuracy = {val_acc:.4f}')\n",
    "    return train_loss_history, val_loss_history, train_acc_history, val_acc_history"
   ]
  },
  {
   "cell_type": "code",
   "execution_count": 37,
   "metadata": {},
   "outputs": [
    {
     "name": "stderr",
     "output_type": "stream",
     "text": [
      "c:\\Users\\Akshith\\anaconda3\\envs\\vitpose\\lib\\site-packages\\torch\\optim\\lr_scheduler.py:28: UserWarning: The verbose parameter is deprecated. Please use get_last_lr() to access the learning rate.\n",
      "  warnings.warn(\"The verbose parameter is deprecated. Please use get_last_lr() \"\n"
     ]
    }
   ],
   "source": [
    "from torch.optim.lr_scheduler import ReduceLROnPlateau\n",
    "model = TCN(input_size=(150, 17 ,2), num_channels=[8, 8, 8, 8], kernel_size=3, dropout=0.2).to(device)\n",
    "\n",
    "optimizer = torch.optim.Adam(model.parameters(), lr=0.005, amsgrad=True)\n",
    "# scheduler = lr_scheduler.StepLR(optimizer, step_size=10, gamma=0.90)\n",
    "scheduler = ReduceLROnPlateau(optimizer, mode='min', factor=0.2, patience=3, verbose=True)\n",
    "criterion = nn.CrossEntropyLoss() "
   ]
  },
  {
   "cell_type": "code",
   "execution_count": 982,
   "metadata": {},
   "outputs": [
    {
     "name": "stdout",
     "output_type": "stream",
     "text": [
      "Model saved in ./saved_models_150\\model_e1_l1.1001.pth\n",
      "Epoch 1/100: Train Loss = 1.1024, Val Loss = 1.1001\n",
      "Train Accuracy = 0.3100, Val Accuracy = 0.3200\n",
      "Model saved in ./saved_models_150\\model_e2_l1.0972.pth\n",
      "Epoch 2/100: Train Loss = 1.0911, Val Loss = 1.0972\n",
      "Train Accuracy = 0.4100, Val Accuracy = 0.4000\n",
      "Epoch 3/100: Train Loss = 1.0787, Val Loss = 1.0981\n",
      "Train Accuracy = 0.4300, Val Accuracy = 0.3400\n",
      "Model saved in ./saved_models_150\\model_e4_l1.0933.pth\n",
      "Epoch 4/100: Train Loss = 1.0723, Val Loss = 1.0933\n",
      "Train Accuracy = 0.5200, Val Accuracy = 0.3600\n",
      "Model saved in ./saved_models_150\\model_e5_l1.0847.pth\n",
      "Epoch 5/100: Train Loss = 1.0645, Val Loss = 1.0847\n",
      "Train Accuracy = 0.5500, Val Accuracy = 0.4200\n",
      "Model saved in ./saved_models_150\\model_e6_l1.0740.pth\n",
      "Epoch 6/100: Train Loss = 1.0540, Val Loss = 1.0740\n",
      "Train Accuracy = 0.5700, Val Accuracy = 0.4800\n",
      "Model saved in ./saved_models_150\\model_e7_l1.0662.pth\n",
      "Epoch 7/100: Train Loss = 1.0368, Val Loss = 1.0662\n",
      "Train Accuracy = 0.6000, Val Accuracy = 0.4200\n",
      "Model saved in ./saved_models_150\\model_e8_l1.0421.pth\n",
      "Epoch 8/100: Train Loss = 1.0282, Val Loss = 1.0421\n",
      "Train Accuracy = 0.5900, Val Accuracy = 0.4400\n",
      "Model saved in ./saved_models_150\\model_e9_l1.0263.pth\n",
      "Epoch 9/100: Train Loss = 1.0090, Val Loss = 1.0263\n",
      "Train Accuracy = 0.7100, Val Accuracy = 0.6200\n",
      "Model saved in ./saved_models_150\\model_e10_l1.0138.pth\n",
      "Epoch 10/100: Train Loss = 0.9953, Val Loss = 1.0138\n",
      "Train Accuracy = 0.6600, Val Accuracy = 0.5000\n",
      "Model saved in ./saved_models_150\\model_e11_l0.9996.pth\n",
      "Epoch 11/100: Train Loss = 0.9819, Val Loss = 0.9996\n",
      "Train Accuracy = 0.7100, Val Accuracy = 0.5800\n",
      "Epoch 12/100: Train Loss = 0.9577, Val Loss = 1.0162\n",
      "Train Accuracy = 0.6500, Val Accuracy = 0.6000\n",
      "Model saved in ./saved_models_150\\model_e13_l0.9898.pth\n",
      "Epoch 13/100: Train Loss = 0.9464, Val Loss = 0.9898\n",
      "Train Accuracy = 0.6700, Val Accuracy = 0.6000\n",
      "Model saved in ./saved_models_150\\model_e14_l0.9796.pth\n",
      "Epoch 14/100: Train Loss = 0.9498, Val Loss = 0.9796\n",
      "Train Accuracy = 0.7600, Val Accuracy = 0.5200\n",
      "Model saved in ./saved_models_150\\model_e15_l0.9630.pth\n",
      "Epoch 15/100: Train Loss = 0.9274, Val Loss = 0.9630\n",
      "Train Accuracy = 0.7300, Val Accuracy = 0.6800\n",
      "Model saved in ./saved_models_150\\model_e16_l0.9351.pth\n",
      "Epoch 16/100: Train Loss = 0.8992, Val Loss = 0.9351\n",
      "Train Accuracy = 0.7900, Val Accuracy = 0.6400\n",
      "Model saved in ./saved_models_150\\model_e17_l0.9205.pth\n",
      "Epoch 17/100: Train Loss = 0.8872, Val Loss = 0.9205\n",
      "Train Accuracy = 0.7600, Val Accuracy = 0.6200\n",
      "Model saved in ./saved_models_150\\model_e18_l0.8908.pth\n",
      "Epoch 18/100: Train Loss = 0.8614, Val Loss = 0.8908\n",
      "Train Accuracy = 0.8500, Val Accuracy = 0.7000\n",
      "Epoch 19/100: Train Loss = 0.8558, Val Loss = 0.9375\n",
      "Train Accuracy = 0.7900, Val Accuracy = 0.6400\n",
      "Model saved in ./saved_models_150\\model_e20_l0.8705.pth\n",
      "Epoch 20/100: Train Loss = 0.8402, Val Loss = 0.8705\n",
      "Train Accuracy = 0.8200, Val Accuracy = 0.6800\n",
      "Model saved in ./saved_models_150\\model_e21_l0.8519.pth\n",
      "Epoch 21/100: Train Loss = 0.8170, Val Loss = 0.8519\n",
      "Train Accuracy = 0.8600, Val Accuracy = 0.7200\n",
      "Model saved in ./saved_models_150\\model_e22_l0.8381.pth\n",
      "Epoch 22/100: Train Loss = 0.8280, Val Loss = 0.8381\n",
      "Train Accuracy = 0.8900, Val Accuracy = 0.8000\n",
      "Model saved in ./saved_models_150\\model_e23_l0.8373.pth\n",
      "Epoch 23/100: Train Loss = 0.8031, Val Loss = 0.8373\n",
      "Train Accuracy = 0.8700, Val Accuracy = 0.7800\n",
      "Epoch 24/100: Train Loss = 0.7671, Val Loss = 0.8558\n",
      "Train Accuracy = 0.8400, Val Accuracy = 0.7000\n",
      "Model saved in ./saved_models_150\\model_e25_l0.8255.pth\n",
      "Epoch 25/100: Train Loss = 0.7713, Val Loss = 0.8255\n",
      "Train Accuracy = 0.8700, Val Accuracy = 0.7600\n",
      "Model saved in ./saved_models_150\\model_e26_l0.8193.pth\n",
      "Epoch 26/100: Train Loss = 0.7931, Val Loss = 0.8193\n",
      "Train Accuracy = 0.8700, Val Accuracy = 0.7200\n",
      "Model saved in ./saved_models_150\\model_e27_l0.7955.pth\n",
      "Epoch 27/100: Train Loss = 0.7822, Val Loss = 0.7955\n",
      "Train Accuracy = 0.9000, Val Accuracy = 0.7800\n",
      "Epoch 28/100: Train Loss = 0.7470, Val Loss = 0.8034\n",
      "Train Accuracy = 0.8900, Val Accuracy = 0.7600\n",
      "Model saved in ./saved_models_150\\model_e29_l0.7882.pth\n",
      "Epoch 29/100: Train Loss = 0.7523, Val Loss = 0.7882\n",
      "Train Accuracy = 0.8900, Val Accuracy = 0.8200\n",
      "Epoch 30/100: Train Loss = 0.7268, Val Loss = 0.8273\n",
      "Train Accuracy = 0.8400, Val Accuracy = 0.7200\n",
      "Model saved in ./saved_models_150\\model_e31_l0.7837.pth\n",
      "Epoch 31/100: Train Loss = 0.7318, Val Loss = 0.7837\n",
      "Train Accuracy = 0.8800, Val Accuracy = 0.8000\n",
      "Model saved in ./saved_models_150\\model_e32_l0.7528.pth\n",
      "Epoch 32/100: Train Loss = 0.7483, Val Loss = 0.7528\n",
      "Train Accuracy = 0.9200, Val Accuracy = 0.8600\n",
      "Epoch 33/100: Train Loss = 0.7171, Val Loss = 0.7787\n",
      "Train Accuracy = 0.9000, Val Accuracy = 0.7400\n",
      "Model saved in ./saved_models_150\\model_e34_l0.7171.pth\n",
      "Epoch 34/100: Train Loss = 0.6991, Val Loss = 0.7171\n",
      "Train Accuracy = 0.9600, Val Accuracy = 0.8800\n",
      "Epoch 35/100: Train Loss = 0.7075, Val Loss = 0.7892\n",
      "Train Accuracy = 0.8900, Val Accuracy = 0.8200\n",
      "Epoch 36/100: Train Loss = 0.7301, Val Loss = 0.7596\n",
      "Train Accuracy = 0.8900, Val Accuracy = 0.8000\n",
      "Epoch 37/100: Train Loss = 0.7136, Val Loss = 0.7621\n",
      "Train Accuracy = 0.9100, Val Accuracy = 0.7800\n",
      "Epoch 38/100: Train Loss = 0.6762, Val Loss = 0.8332\n",
      "Train Accuracy = 0.8400, Val Accuracy = 0.7400\n",
      "Model saved in ./saved_models_150\\model_e39_l0.7096.pth\n",
      "Epoch 39/100: Train Loss = 0.6960, Val Loss = 0.7096\n",
      "Train Accuracy = 0.9400, Val Accuracy = 0.8800\n",
      "Epoch 40/100: Train Loss = 0.6845, Val Loss = 0.7366\n",
      "Train Accuracy = 0.9200, Val Accuracy = 0.8000\n",
      "Epoch 41/100: Train Loss = 0.6637, Val Loss = 0.7630\n",
      "Train Accuracy = 0.8900, Val Accuracy = 0.7800\n",
      "Epoch 42/100: Train Loss = 0.6694, Val Loss = 0.7333\n",
      "Train Accuracy = 0.9300, Val Accuracy = 0.8600\n",
      "Epoch 43/100: Train Loss = 0.6643, Val Loss = 0.7205\n",
      "Train Accuracy = 0.9500, Val Accuracy = 0.8600\n",
      "Epoch 44/100: Train Loss = 0.6793, Val Loss = 0.7258\n",
      "Train Accuracy = 0.9300, Val Accuracy = 0.8600\n",
      "Epoch 45/100: Train Loss = 0.6874, Val Loss = 0.7307\n",
      "Train Accuracy = 0.9300, Val Accuracy = 0.8400\n",
      "Epoch 46/100: Train Loss = 0.6711, Val Loss = 0.7226\n",
      "Train Accuracy = 0.9400, Val Accuracy = 0.8600\n",
      "Epoch 47/100: Train Loss = 0.6815, Val Loss = 0.7348\n",
      "Train Accuracy = 0.9300, Val Accuracy = 0.8600\n",
      "Epoch 48/100: Train Loss = 0.6919, Val Loss = 0.7273\n",
      "Train Accuracy = 0.9400, Val Accuracy = 0.8600\n",
      "Epoch 49/100: Train Loss = 0.6806, Val Loss = 0.7199\n",
      "Train Accuracy = 0.9500, Val Accuracy = 0.8600\n",
      "Epoch 50/100: Train Loss = 0.6849, Val Loss = 0.7262\n",
      "Train Accuracy = 0.9400, Val Accuracy = 0.8600\n",
      "Epoch 51/100: Train Loss = 0.6500, Val Loss = 0.7198\n",
      "Train Accuracy = 0.9400, Val Accuracy = 0.8600\n",
      "Epoch 52/100: Train Loss = 0.6849, Val Loss = 0.7140\n",
      "Train Accuracy = 0.9500, Val Accuracy = 0.8400\n",
      "Epoch 53/100: Train Loss = 0.6590, Val Loss = 0.7158\n",
      "Train Accuracy = 0.9500, Val Accuracy = 0.8600\n",
      "Epoch 54/100: Train Loss = 0.6569, Val Loss = 0.7154\n",
      "Train Accuracy = 0.9500, Val Accuracy = 0.8600\n",
      "Epoch 55/100: Train Loss = 0.6767, Val Loss = 0.7140\n",
      "Train Accuracy = 0.9600, Val Accuracy = 0.8600\n",
      "Epoch 56/100: Train Loss = 0.6678, Val Loss = 0.7123\n",
      "Train Accuracy = 0.9600, Val Accuracy = 0.8600\n",
      "Epoch 57/100: Train Loss = 0.6730, Val Loss = 0.7128\n",
      "Train Accuracy = 0.9500, Val Accuracy = 0.8400\n",
      "Epoch 58/100: Train Loss = 0.6783, Val Loss = 0.7222\n",
      "Train Accuracy = 0.9500, Val Accuracy = 0.8600\n",
      "Epoch 59/100: Train Loss = 0.6780, Val Loss = 0.7259\n",
      "Train Accuracy = 0.9400, Val Accuracy = 0.8600\n",
      "Epoch 60/100: Train Loss = 0.6833, Val Loss = 0.7228\n",
      "Train Accuracy = 0.9400, Val Accuracy = 0.8600\n",
      "Epoch 61/100: Train Loss = 0.6833, Val Loss = 0.7251\n",
      "Train Accuracy = 0.9400, Val Accuracy = 0.8600\n",
      "Epoch 62/100: Train Loss = 0.6631, Val Loss = 0.7182\n",
      "Train Accuracy = 0.9500, Val Accuracy = 0.8600\n",
      "Epoch 63/100: Train Loss = 0.6687, Val Loss = 0.7150\n",
      "Train Accuracy = 0.9500, Val Accuracy = 0.8600\n",
      "Epoch 64/100: Train Loss = 0.6575, Val Loss = 0.7204\n",
      "Train Accuracy = 0.9400, Val Accuracy = 0.8600\n",
      "Epoch 65/100: Train Loss = 0.6742, Val Loss = 0.7330\n",
      "Train Accuracy = 0.9300, Val Accuracy = 0.8600\n",
      "Epoch 66/100: Train Loss = 0.6690, Val Loss = 0.7355\n",
      "Train Accuracy = 0.9300, Val Accuracy = 0.8600\n",
      "Epoch 67/100: Train Loss = 0.6750, Val Loss = 0.7235\n",
      "Train Accuracy = 0.9400, Val Accuracy = 0.8600\n",
      "Epoch 68/100: Train Loss = 0.6861, Val Loss = 0.7234\n",
      "Train Accuracy = 0.9400, Val Accuracy = 0.8600\n",
      "Epoch 69/100: Train Loss = 0.6936, Val Loss = 0.7205\n",
      "Train Accuracy = 0.9400, Val Accuracy = 0.8600\n",
      "Epoch 70/100: Train Loss = 0.6704, Val Loss = 0.7277\n",
      "Train Accuracy = 0.9400, Val Accuracy = 0.8600\n",
      "Epoch 71/100: Train Loss = 0.6536, Val Loss = 0.7246\n",
      "Train Accuracy = 0.9400, Val Accuracy = 0.8600\n",
      "Epoch 72/100: Train Loss = 0.6658, Val Loss = 0.7186\n",
      "Train Accuracy = 0.9400, Val Accuracy = 0.8600\n",
      "Epoch 73/100: Train Loss = 0.6965, Val Loss = 0.7307\n",
      "Train Accuracy = 0.9400, Val Accuracy = 0.8600\n",
      "Epoch 74/100: Train Loss = 0.6731, Val Loss = 0.7203\n",
      "Train Accuracy = 0.9400, Val Accuracy = 0.8400\n",
      "Epoch 75/100: Train Loss = 0.6762, Val Loss = 0.7230\n",
      "Train Accuracy = 0.9500, Val Accuracy = 0.8400\n",
      "Epoch 76/100: Train Loss = 0.6545, Val Loss = 0.7207\n",
      "Train Accuracy = 0.9500, Val Accuracy = 0.8400\n",
      "Epoch 77/100: Train Loss = 0.6581, Val Loss = 0.7122\n",
      "Train Accuracy = 0.9600, Val Accuracy = 0.8400\n",
      "Epoch 78/100: Train Loss = 0.6657, Val Loss = 0.7201\n",
      "Train Accuracy = 0.9400, Val Accuracy = 0.8600\n",
      "Epoch 79/100: Train Loss = 0.6786, Val Loss = 0.7179\n",
      "Train Accuracy = 0.9500, Val Accuracy = 0.8400\n",
      "Epoch 80/100: Train Loss = 0.6800, Val Loss = 0.7200\n",
      "Train Accuracy = 0.9500, Val Accuracy = 0.8600\n",
      "Epoch 81/100: Train Loss = 0.6599, Val Loss = 0.7176\n",
      "Train Accuracy = 0.9500, Val Accuracy = 0.8600\n",
      "Epoch 82/100: Train Loss = 0.6667, Val Loss = 0.7152\n",
      "Train Accuracy = 0.9500, Val Accuracy = 0.8600\n",
      "Epoch 83/100: Train Loss = 0.6816, Val Loss = 0.7205\n",
      "Train Accuracy = 0.9400, Val Accuracy = 0.8400\n",
      "Epoch 84/100: Train Loss = 0.6620, Val Loss = 0.7278\n",
      "Train Accuracy = 0.9500, Val Accuracy = 0.8600\n",
      "Epoch 85/100: Train Loss = 0.6594, Val Loss = 0.7265\n",
      "Train Accuracy = 0.9500, Val Accuracy = 0.8600\n",
      "Epoch 86/100: Train Loss = 0.6767, Val Loss = 0.7270\n",
      "Train Accuracy = 0.9500, Val Accuracy = 0.8600\n",
      "Epoch 87/100: Train Loss = 0.6645, Val Loss = 0.7166\n",
      "Train Accuracy = 0.9500, Val Accuracy = 0.8600\n",
      "Epoch 88/100: Train Loss = 0.6767, Val Loss = 0.7220\n",
      "Train Accuracy = 0.9400, Val Accuracy = 0.8600\n",
      "Epoch 89/100: Train Loss = 0.6792, Val Loss = 0.7177\n",
      "Train Accuracy = 0.9500, Val Accuracy = 0.8400\n",
      "Epoch 90/100: Train Loss = 0.6838, Val Loss = 0.7233\n",
      "Train Accuracy = 0.9400, Val Accuracy = 0.8600\n",
      "Epoch 91/100: Train Loss = 0.6869, Val Loss = 0.7175\n",
      "Train Accuracy = 0.9500, Val Accuracy = 0.8400\n",
      "Epoch 92/100: Train Loss = 0.6623, Val Loss = 0.7264\n",
      "Train Accuracy = 0.9500, Val Accuracy = 0.8600\n",
      "Epoch 93/100: Train Loss = 0.6882, Val Loss = 0.7162\n",
      "Train Accuracy = 0.9500, Val Accuracy = 0.8400\n",
      "Epoch 94/100: Train Loss = 0.6832, Val Loss = 0.7343\n",
      "Train Accuracy = 0.9300, Val Accuracy = 0.8600\n",
      "Epoch 95/100: Train Loss = 0.6613, Val Loss = 0.7292\n",
      "Train Accuracy = 0.9300, Val Accuracy = 0.8600\n",
      "Epoch 96/100: Train Loss = 0.6680, Val Loss = 0.7174\n",
      "Train Accuracy = 0.9400, Val Accuracy = 0.8400\n",
      "Epoch 97/100: Train Loss = 0.6504, Val Loss = 0.7165\n",
      "Train Accuracy = 0.9500, Val Accuracy = 0.8400\n",
      "Epoch 98/100: Train Loss = 0.6585, Val Loss = 0.7230\n",
      "Train Accuracy = 0.9500, Val Accuracy = 0.8400\n",
      "Epoch 99/100: Train Loss = 0.6527, Val Loss = 0.7240\n",
      "Train Accuracy = 0.9400, Val Accuracy = 0.8600\n",
      "Epoch 100/100: Train Loss = 0.6774, Val Loss = 0.7257\n",
      "Train Accuracy = 0.9500, Val Accuracy = 0.8600\n"
     ]
    }
   ],
   "source": [
    "train_loss_history, val_loss_history, train_acc_history, val_acc_history = train(model, train_dl, val_dl, optimizer, scheduler, criterion, device, 100)"
   ]
  },
  {
   "cell_type": "code",
   "execution_count": 983,
   "metadata": {},
   "outputs": [
    {
     "data": {
      "image/png": "[encoded data removed]",
      "text/plain": [
       "<Figure size 640x480 with 1 Axes>"
      ]
     },
     "metadata": {},
     "output_type": "display_data"
    },
    {
     "data": {
      "image/png": "[encoded data removed]",
      "text/plain": [
       "<Figure size 640x480 with 1 Axes>"
      ]
     },
     "metadata": {},
     "output_type": "display_data"
    }
   ],
   "source": [
    "# Plot the training and validation loss\n",
    "import matplotlib.pyplot as plt\n",
    "\n",
    "plt.plot(train_loss_history, label='Training Loss')\n",
    "plt.plot(val_loss_history, label='Validation Loss')\n",
    "plt.xlabel('Epoch')\n",
    "plt.ylabel('Loss')\n",
    "plt.legend()\n",
    "plt.show()\n",
    "\n",
    "# Plot the training and validation accuracy\n",
    "plt.plot(train_acc_history, label='Training Accuracy')\n",
    "plt.plot(val_acc_history, label='Validation Accuracy')\n",
    "plt.xlabel('Epoch')\n",
    "plt.ylabel('Accuracy')\n",
    "plt.legend()\n",
    "plt.show()\n"
   ]
  },
  {
   "cell_type": "code",
   "execution_count": 23,
   "metadata": {},
   "outputs": [],
   "source": [
    "def inference(model, data_loader, device):\n",
    "    predictions = []\n",
    "    labels = []\n",
    "    model.eval()\n",
    "    with torch.no_grad():\n",
    "        for inputs, labels_batch in data_loader:\n",
    "            inputs = inputs.to(device)\n",
    "            labels_batch = labels_batch.to(device)\n",
    "            outputs = model(inputs)\n",
    "            _, predicted = torch.max(outputs, 1)\n",
    "            predictions.extend(predicted.cpu().numpy())\n",
    "            labels.extend(labels_batch.cpu().numpy())\n",
    "    return predictions, labels"
   ]
  },
  {
   "cell_type": "code",
   "execution_count": 985,
   "metadata": {},
   "outputs": [
    {
     "name": "stdout",
     "output_type": "stream",
     "text": [
      "Classification Report for Train Data:\n",
      "              precision    recall  f1-score   support\n",
      "\n",
      "           0       0.92      1.00      0.96        35\n",
      "           1       1.00      0.94      0.97        31\n",
      "           2       0.94      0.91      0.93        34\n",
      "\n",
      "    accuracy                           0.95       100\n",
      "   macro avg       0.95      0.95      0.95       100\n",
      "weighted avg       0.95      0.95      0.95       100\n",
      "\n",
      "Classification Report for Validation Data:\n",
      "              precision    recall  f1-score   support\n",
      "\n",
      "           0       0.74      1.00      0.85        17\n",
      "           1       0.94      1.00      0.97        16\n",
      "           2       1.00      0.59      0.74        17\n",
      "\n",
      "    accuracy                           0.86        50\n",
      "   macro avg       0.89      0.86      0.85        50\n",
      "weighted avg       0.89      0.86      0.85        50\n",
      "\n"
     ]
    }
   ],
   "source": [
    "from sklearn.metrics import classification_report\n",
    "train_predictions, train_labels = inference(model, train_dl, device)\n",
    "val_predictions, val_labels = inference(model, val_dl, device)\n",
    "\n",
    "# Compute classification report for train and val datasets\n",
    "train_report = classification_report(train_labels, train_predictions)\n",
    "val_report = classification_report(val_labels, val_predictions)\n",
    "\n",
    "print(\"Classification Report for Train Data:\")\n",
    "print(train_report)\n",
    "print(\"Classification Report for Validation Data:\")\n",
    "print(val_report)"
   ]
  },
  {
   "cell_type": "code",
   "execution_count": 986,
   "metadata": {},
   "outputs": [],
   "source": [
    "# Save the model checkpoint\n",
    "torch.save(model.state_dict(), 'tcn_model_ex3_150.pth')\n"
   ]
  },
  {
   "cell_type": "code",
   "execution_count": 687,
   "metadata": {},
   "outputs": [],
   "source": [
    "# testdata = CustomDataset(r\"test_npz_files\")\n",
    "\n",
    "# # Create DataLoader for test data\n",
    "# test_dl = DataLoader(testdata, batch_size=4, shuffle=True)"
   ]
  },
  {
   "cell_type": "code",
   "execution_count": 78,
   "metadata": {},
   "outputs": [
    {
     "name": "stdout",
     "output_type": "stream",
     "text": [
      "Number of data in label 0: 8\n",
      "Number of data in label 1: 11\n",
      "Number of data in label 2: 13\n"
     ]
    }
   ],
   "source": [
    "for i in range(3):\n",
    "    print(f\"Number of data in label {i}: {len([label for _, label in test_data if label == i])}\")"
   ]
  },
  {
   "cell_type": "code",
   "execution_count": 79,
   "metadata": {},
   "outputs": [],
   "source": [
    "test_dl = DataLoader(test_data, batch_size=4, shuffle=True)"
   ]
  },
  {
   "cell_type": "code",
   "execution_count": 80,
   "metadata": {},
   "outputs": [
    {
     "name": "stdout",
     "output_type": "stream",
     "text": [
      "Test Accuracy = 0.9375\n"
     ]
    }
   ],
   "source": [
    "# test accuracy\n",
    "model.load_state_dict(torch.load('saved_models_150\\model_e39_l0.7096.pth'))\n",
    "\n",
    "test_acc = get_accuracy(model, test_dl, device)\n",
    "print(f'Test Accuracy = {test_acc:.4f}')"
   ]
  },
  {
   "cell_type": "code",
   "execution_count": 88,
   "metadata": {},
   "outputs": [
    {
     "name": "stdout",
     "output_type": "stream",
     "text": [
      "torch.Size([4, 150, 17, 2])\n",
      "torch.Size([4, 150, 17, 2])\n",
      "torch.Size([4, 150, 17, 2])\n",
      "torch.Size([4, 150, 17, 2])\n",
      "torch.Size([4, 150, 17, 2])\n",
      "torch.Size([4, 150, 17, 2])\n",
      "torch.Size([4, 150, 17, 2])\n",
      "torch.Size([4, 150, 17, 2])\n",
      "              precision    recall  f1-score   support\n",
      "\n",
      "           0       0.89      1.00      0.94         8\n",
      "           1       0.92      1.00      0.96        11\n",
      "           2       1.00      0.85      0.92        13\n",
      "\n",
      "    accuracy                           0.94        32\n",
      "   macro avg       0.94      0.95      0.94        32\n",
      "weighted avg       0.94      0.94      0.94        32\n",
      "\n"
     ]
    }
   ],
   "source": [
    "from sklearn.metrics import classification_report\n",
    "\n",
    "# Assuming your model is named 'model' and you have a test DataLoader named 'test_dl'\n",
    "# Iterate over test DataLoader to make predictions\n",
    "model.eval()\n",
    "all_predictions = []\n",
    "all_labels = []\n",
    "misclassified_samples = []  # Initialize list to store misclassified samples\n",
    "misclassified_labels = [] \n",
    "misclassified_predictions = []\n",
    "\n",
    "with torch.no_grad():\n",
    "    for inputs, labels in test_dl:\n",
    "        inputs = inputs.to(device)\n",
    "        labels = labels.to(device)\n",
    "        print(inputs.shape)\n",
    "        # Forward pass\n",
    "        outputs = model(inputs)\n",
    "\n",
    "        # Convert outputs to predicted labels (e.g., using argmax)\n",
    "        _, predicted = torch.max(outputs, 1)\n",
    "        \n",
    "\n",
    "        # Append predicted labels and ground truth labels to lists\n",
    "        all_predictions.extend(predicted.cpu().numpy())\n",
    "        all_labels.extend(labels.cpu().numpy())\n",
    "\n",
    "        for i in range(len(labels)):\n",
    "            if predicted[i] != labels[i]:\n",
    "                misclassified_samples.append(inputs[i].cpu().numpy())\n",
    "                misclassified_labels.append(labels[i].cpu().item())\n",
    "                misclassified_predictions.append(predicted[i].cpu().item())\n",
    "\n",
    "# Compute classification report\n",
    "report = classification_report(all_labels, all_predictions)\n",
    "print(report)\n"
   ]
  },
  {
   "cell_type": "code",
   "execution_count": 82,
   "metadata": {},
   "outputs": [
    {
     "data": {
      "image/png": "[encoded data removed]",
      "text/plain": [
       "<Figure size 800x600 with 2 Axes>"
      ]
     },
     "metadata": {},
     "output_type": "display_data"
    },
    {
     "name": "stdout",
     "output_type": "stream",
     "text": [
      "[[ 8  0  0]\n",
      " [ 0 11  0]\n",
      " [ 1  1 11]]\n"
     ]
    }
   ],
   "source": [
    "import numpy as np\n",
    "import matplotlib.pyplot as plt\n",
    "from sklearn.metrics import confusion_matrix\n",
    "\n",
    "# Compute confusion matrix\n",
    "conf_matrix = confusion_matrix(all_labels, all_predictions)\n",
    "\n",
    "# Plot confusion matrix\n",
    "plt.figure(figsize=(8, 6))\n",
    "plt.imshow(conf_matrix, interpolation='nearest', cmap=plt.cm.Blues)\n",
    "plt.title('Confusion Matrix')\n",
    "plt.colorbar()\n",
    "classes = np.unique(all_labels)\n",
    "tick_marks = np.arange(len(classes))\n",
    "plt.xticks(tick_marks, classes)\n",
    "plt.yticks(tick_marks, classes)\n",
    "\n",
    "fmt = 'd'\n",
    "thresh = conf_matrix.max() / 2.\n",
    "for i in range(conf_matrix.shape[0]):\n",
    "    for j in range(conf_matrix.shape[1]):\n",
    "        plt.text(j, i, format(conf_matrix[i, j], fmt),\n",
    "                 ha=\"center\", va=\"center\",\n",
    "                 color=\"white\" if conf_matrix[i, j] > thresh else \"black\")\n",
    "\n",
    "plt.xlabel('Predicted Labels')\n",
    "plt.ylabel('True Labels')\n",
    "plt.tight_layout()\n",
    "plt.show()\n",
    "print(conf_matrix)"
   ]
  },
  {
   "cell_type": "code",
   "execution_count": 86,
   "metadata": {},
   "outputs": [
    {
     "name": "stdout",
     "output_type": "stream",
     "text": [
      "True Label: 2\n",
      "Predicted Label: 0\n",
      "Misclassified Sample Data: [[[163.04504 247.69788]\n",
      "  [150.63751 247.08813]\n",
      "  [148.08594 243.51233]\n",
      "  ...\n",
      "  [512.04663 236.25818]\n",
      "  [619.9007  141.52075]\n",
      "  [690.65796 229.93787]]\n",
      "\n",
      " [[167.45667 248.56903]\n",
      "  [154.38525 247.70868]\n",
      "  [152.05103 243.80548]\n",
      "  ...\n",
      "  [511.8587  235.70786]\n",
      "  [619.2172  141.8844 ]\n",
      "  [691.8187  230.76877]]\n",
      "\n",
      " [[167.61322 248.82315]\n",
      "  [154.43506 248.72937]\n",
      "  [151.69696 243.13748]\n",
      "  ...\n",
      "  [514.2989  236.63312]\n",
      "  [620.2706  140.5285 ]\n",
      "  [692.77734 230.45447]]\n",
      "\n",
      " ...\n",
      "\n",
      " [[162.51459 255.49597]\n",
      "  [150.3169  256.43896]\n",
      "  [148.19415 252.41568]\n",
      "  ...\n",
      "  [518.69916 224.49457]\n",
      "  [625.7087  146.04117]\n",
      "  [698.16284 236.8689 ]]\n",
      "\n",
      " [[168.0498  253.41895]\n",
      "  [154.55255 254.74023]\n",
      "  [153.02356 250.82687]\n",
      "  ...\n",
      "  [518.127   222.57867]\n",
      "  [626.5542  145.90308]\n",
      "  [700.8999  237.24112]]\n",
      "\n",
      " [[165.03467 252.67194]\n",
      "  [151.57104 253.08728]\n",
      "  [150.35736 249.75555]\n",
      "  ...\n",
      "  [516.67554 222.57416]\n",
      "  [628.8982  147.12186]\n",
      "  [699.29004 236.53476]]]\n",
      "--------------------------------------------------\n",
      "True Label: 2\n",
      "Predicted Label: 1\n",
      "Misclassified Sample Data: [[[336.35303 239.77917]\n",
      "  [328.2533  247.48834]\n",
      "  [327.53558 234.30634]\n",
      "  ...\n",
      "  [580.0405  203.82379]\n",
      "  [669.0034  280.0421 ]\n",
      "  [665.0515  198.03244]]\n",
      "\n",
      " [[337.58264 239.74304]\n",
      "  [331.44165 246.96698]\n",
      "  [330.3036  234.85297]\n",
      "  ...\n",
      "  [578.664   203.52563]\n",
      "  [669.28394 278.60815]\n",
      "  [664.4302  197.21906]]\n",
      "\n",
      " [[340.74536 237.41382]\n",
      "  [333.04492 244.77539]\n",
      "  [332.24744 232.67432]\n",
      "  ...\n",
      "  [576.2775  203.88733]\n",
      "  [670.91284 278.47888]\n",
      "  [664.01807 197.4635 ]]\n",
      "\n",
      " ...\n",
      "\n",
      " [[336.4026  235.0831 ]\n",
      "  [330.78943 243.10886]\n",
      "  [328.9685  230.31613]\n",
      "  ...\n",
      "  [577.27484 197.9248 ]\n",
      "  [669.4238  278.46655]\n",
      "  [664.89014 196.82068]]\n",
      "\n",
      " [[336.4026  235.0831 ]\n",
      "  [330.78943 243.10886]\n",
      "  [328.9685  230.31613]\n",
      "  ...\n",
      "  [577.27484 197.9248 ]\n",
      "  [669.4238  278.46655]\n",
      "  [664.89014 196.82068]]\n",
      "\n",
      " [[336.4026  235.0831 ]\n",
      "  [330.78943 243.10886]\n",
      "  [328.9685  230.31613]\n",
      "  ...\n",
      "  [577.27484 197.9248 ]\n",
      "  [669.4238  278.46655]\n",
      "  [664.89014 196.82068]]]\n",
      "--------------------------------------------------\n"
     ]
    }
   ],
   "source": [
    "for sample, true_label, pred in zip(misclassified_samples, misclassified_labels, misclassified_predictions):\n",
    "    print(\"True Label:\", true_label)\n",
    "    print(\"Predicted Label:\", pred)\n",
    "    print(\"Misclassified Sample Data:\", sample)\n",
    "    print(\"-\" * 50)  # Separator for clarity"
   ]
  },
  {
   "cell_type": "code",
   "execution_count": 87,
   "metadata": {},
   "outputs": [
    {
     "name": "stdout",
     "output_type": "stream",
     "text": [
      "True Label: 2 Predicted Label: 1\n",
      "True Label: 2 Predicted Label: 0\n",
      "Matched .npz file: new_keypoints_30_03\\squats\\s_12.npz\n",
      "Matched .npz file: new_keypoints_30_03\\squats\\s_42.npz\n"
     ]
    }
   ],
   "source": [
    "import os\n",
    "\n",
    "# Directory containing .npz files\n",
    "npz_dir = 'new_keypoints_30_03'\n",
    "\n",
    "# List to store the paths of matched .npz files\n",
    "matched_files = []\n",
    "\n",
    "# Iterate over directories containing .npz files\n",
    "for root, dirs, files in os.walk(npz_dir):\n",
    "    for file in files:\n",
    "        if file.endswith('.npz'):\n",
    "            npz_path = os.path.join(root, file)\n",
    "            \n",
    "            # Load .npz file\n",
    "            npz_data = np.load(npz_path)\n",
    "            npz_data = npz_data['reconstruction'][:, :, :2]\n",
    "            # Pad the data to a fixed length\n",
    "            last_row = np.expand_dims(npz_data[-1], 0)\n",
    "            fixed_length = 150\n",
    "            if len(npz_data) < fixed_length:\n",
    "                npz_data = np.concatenate([npz_data, np.tile(last_row, (fixed_length - len(npz_data), 1, 1))])\n",
    "            else:\n",
    "                npz_data = npz_data[:fixed_length]\n",
    "            \n",
    "            # Compare npz_data with misclassified data\n",
    "            # Assuming misclassified_data is a list of misclassified data\n",
    "            for data, lab, pre in zip(misclassified_samples, misclassified_labels, misclassified_predictions):\n",
    "                # Check if data matches with npz_data\n",
    "                if np.all(npz_data == data):\n",
    "                    matched_files.append(npz_path)\n",
    "                    print(\"True Label:\", lab, \"Predicted Label:\", pre)\n",
    "                    break  # Exit loop if match is found\n",
    "\n",
    "# Print paths of matched .npz files\n",
    "for file in matched_files:\n",
    "    print(\"Matched .npz file:\", file)\n"
   ]
  }
 ],
 "metadata": {
  "kernelspec": {
   "display_name": "pytorchenvcuda12",
   "language": "python",
   "name": "python3"
  },
  "language_info": {
   "codemirror_mode": {
    "name": "ipython",
    "version": 3
   },
   "file_extension": ".py",
   "mimetype": "text/x-python",
   "name": "python",
   "nbconvert_exporter": "python",
   "pygments_lexer": "ipython3",
   "version": "3.9.19"
  }
 },
 "nbformat": 4,
 "nbformat_minor": 2
}
